{
  "nbformat": 4,
  "nbformat_minor": 0,
  "metadata": {
    "colab": {
      "provenance": [],
      "authorship_tag": "ABX9TyMng8yobcSL/bk8RdzW9kKY",
      "include_colab_link": true
    },
    "kernelspec": {
      "name": "python3",
      "display_name": "Python 3"
    },
    "language_info": {
      "name": "python"
    }
  },
  "cells": [
    {
      "cell_type": "markdown",
      "metadata": {
        "id": "view-in-github",
        "colab_type": "text"
      },
      "source": [
        "<a href=\"https://colab.research.google.com/github/leoleeiamai/ai-finance-portfolio/blob/main/00_setup.ipynb\" target=\"_parent\"><img src=\"https://colab.research.google.com/assets/colab-badge.svg\" alt=\"Open In Colab\"/></a>"
      ]
    },
    {
      "cell_type": "code",
      "execution_count": null,
      "metadata": {
        "colab": {
          "base_uri": "https://localhost:8080/"
        },
        "id": "DzA6aGQjmUZ_",
        "outputId": "2c1084ab-9bc8-4dca-8b35-6dd9f0e3926d"
      },
      "outputs": [
        {
          "output_type": "stream",
          "name": "stdout",
          "text": [
            "Hello Finance!\n"
          ]
        }
      ],
      "source": [
        "print(\"Hello Finance!\")"
      ]
    },
    {
      "cell_type": "code",
      "source": [
        "!pip -q install yfinance pandas numpy matplotlib scikit-learn statsmodels plotly pandas-datareader\n"
      ],
      "metadata": {
        "id": "hZw7tW5VnQUF"
      },
      "execution_count": null,
      "outputs": []
    },
    {
      "cell_type": "code",
      "source": [
        "import sys, pandas, numpy, matplotlib, sklearn, statsmodels, plotly, yfinance\n",
        "print(\"Python:\", sys.version.split()[0])\n",
        "print(\"pandas:\", pandas.__version__)\n",
        "print(\"numpy:\", numpy.__version__)\n",
        "print(\"matplotlib:\", matplotlib.__version__)\n",
        "print(\"scikit-learn:\", sklearn.__version__)\n",
        "print(\"statsmodels:\", statsmodels.__version__)\n",
        "print(\"plotly:\", plotly.__version__)\n",
        "print(\"yfinance:\", yfinance.__version__)\n"
      ],
      "metadata": {
        "id": "oheCPTDunWsP",
        "outputId": "13da5eeb-d841-4bf4-b2b0-d7c3ae1f9ed8",
        "colab": {
          "base_uri": "https://localhost:8080/"
        }
      },
      "execution_count": null,
      "outputs": [
        {
          "output_type": "stream",
          "name": "stdout",
          "text": [
            "Python: 3.12.11\n",
            "pandas: 2.2.2\n",
            "numpy: 2.0.2\n",
            "matplotlib: 3.10.0\n",
            "scikit-learn: 1.6.1\n",
            "statsmodels: 0.14.5\n",
            "plotly: 5.24.1\n",
            "yfinance: 0.2.65\n"
          ]
        }
      ]
    }
  ]
}